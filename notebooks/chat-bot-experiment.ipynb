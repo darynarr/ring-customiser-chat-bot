{
 "cells": [
  {
   "cell_type": "code",
   "execution_count": 1,
   "metadata": {},
   "outputs": [
    {
     "name": "stdout",
     "output_type": "stream",
     "text": [
      "/home/daryna/pet_projects/ring-customiser-chat-bot\n"
     ]
    },
    {
     "name": "stderr",
     "output_type": "stream",
     "text": [
      "/home/daryna/miniconda3/envs/ring-customizer/lib/python3.11/site-packages/IPython/core/magics/osm.py:417: UserWarning: This is now an optional IPython functionality, setting dhist requires you to install the `pickleshare` library.\n",
      "  self.shell.db['dhist'] = compress_dhist(dhist)[-100:]\n"
     ]
    }
   ],
   "source": [
    "%cd .."
   ]
  },
  {
   "cell_type": "code",
   "execution_count": 2,
   "metadata": {},
   "outputs": [
    {
     "data": {
      "text/plain": [
       "True"
      ]
     },
     "execution_count": 2,
     "metadata": {},
     "output_type": "execute_result"
    }
   ],
   "source": [
    "import json\n",
    "from dotenv import load_dotenv\n",
    "\n",
    "from pathlib import Path\n",
    "from langchain_openai import ChatOpenAI\n",
    "from langchain_community.document_loaders import Docx2txtLoader, TextLoader\n",
    "from langchain.indexes import VectorstoreIndexCreator\n",
    "from langchain.vectorstores import DocArrayInMemorySearch\n",
    "from langchain.embeddings import OpenAIEmbeddings\n",
    "from langchain.chains import ConversationChain\n",
    "from langchain.memory import ConversationSummaryBufferMemory, ConversationBufferMemory, ConversationBufferWindowMemory\n",
    "from langchain.prompts import PromptTemplate\n",
    "from langchain.output_parsers import PydanticOutputParser\n",
    "from pydantic import ValidationError\n",
    "\n",
    "from src.schemas import Ring\n",
    "\n",
    "load_dotenv()"
   ]
  },
  {
   "cell_type": "code",
   "execution_count": 3,
   "metadata": {},
   "outputs": [],
   "source": [
    "DATA_DIR = Path('data')\n",
    "customization_filepath = DATA_DIR / 'customization.md'\n",
    "faq_filepath = DATA_DIR / 'FAQ.md'\n",
    "\n",
    "customization_loader = TextLoader(file_path=customization_filepath, encoding='utf-8')\n",
    "faq_loader = TextLoader(file_path=faq_filepath, encoding='utf-8')\n",
    "\n",
    "customization_documents = customization_loader.load()\n",
    "faq_documents = faq_loader.load();"
   ]
  },
  {
   "cell_type": "code",
   "execution_count": 4,
   "metadata": {},
   "outputs": [
    {
     "name": "stderr",
     "output_type": "stream",
     "text": [
      "/home/daryna/miniconda3/envs/ring-customizer/lib/python3.11/site-packages/langchain_core/_api/deprecation.py:139: LangChainDeprecationWarning: The class `OpenAIEmbeddings` was deprecated in LangChain 0.0.9 and will be removed in 0.3.0. An updated version of the class exists in the langchain-openai package and should be used instead. To use it run `pip install -U langchain-openai` and import as `from langchain_openai import OpenAIEmbeddings`.\n",
      "  warn_deprecated(\n",
      "/home/daryna/miniconda3/envs/ring-customizer/lib/python3.11/site-packages/pydantic/_migration.py:283: UserWarning: `pydantic.error_wrappers:ValidationError` has been moved to `pydantic:ValidationError`.\n",
      "  warnings.warn(f'`{import_path}` has been moved to `{new_location}`.')\n"
     ]
    }
   ],
   "source": [
    "embedding_model = OpenAIEmbeddings()\n",
    "index = VectorstoreIndexCreator(\n",
    "    embedding=embedding_model,\n",
    "    vectorstore_cls=DocArrayInMemorySearch\n",
    ").from_loaders([customization_loader, faq_loader])"
   ]
  },
  {
   "cell_type": "code",
   "execution_count": 5,
   "metadata": {},
   "outputs": [],
   "source": [
    "llm = ChatOpenAI(model='gpt-3.5-turbo', temperature=0)"
   ]
  },
  {
   "cell_type": "code",
   "execution_count": 6,
   "metadata": {},
   "outputs": [
    {
     "data": {
      "text/plain": [
       "'We offer American sizes from 4 to 13, including half sizes. Here’s a table mapping American sizes to millimeters:\\n| American Size | Diameter (mm) |\\n|---------------|---------------|\\n| 4             | 14.9          |\\n| 4.5           | 15.3          |\\n| 5             | 15.7          |\\n| 5.5           | 16.1          |\\n| 6             | 16.5          |\\n| 6.5           | 16.9          |\\n| 7             | 17.3          |\\n| 7.5           | 17.7          |\\n| 8             | 18.1          |\\n| 8.5           | 18.5          |\\n| 9             | 18.9          |\\n| 9.5           | 19.3          |\\n| 10            | 19.7          |\\n| 10.5          | 20.1          |\\n| 11            | 20.5          |\\n| 11.5          | 20.9          |\\n| 12            | 21.3          |\\n| 12.5          | 21.7          |\\n| 13            | 22.1          |'"
      ]
     },
     "metadata": {},
     "output_type": "display_data"
    }
   ],
   "source": [
    "query =\"Please list all possible sizes for the ring\"\n",
    "response = index.query(query, llm=llm)\n",
    "display(response)\n"
   ]
  },
  {
   "cell_type": "code",
   "execution_count": 7,
   "metadata": {},
   "outputs": [
    {
     "data": {
      "text/plain": [
       "'If the diameter of the ring is 15.1mm, the corresponding American size would be between 4.5 and 5. Since the diameter falls between 15.3mm for size 4.5 and 15.7mm for size 5, the closest size would be 5.'"
      ]
     },
     "metadata": {},
     "output_type": "display_data"
    }
   ],
   "source": [
    "query =\"What is my American size of the ring, if it is 15.1mm in diameter?\"\n",
    "response = index.query(query, llm=llm)\n",
    "display(response)"
   ]
  },
  {
   "cell_type": "code",
   "execution_count": 8,
   "metadata": {},
   "outputs": [],
   "source": [
    "memory = ConversationBufferWindowMemory(k=10, ai_prefix='AI', human_prefix='Customer')\n",
    "with open(customization_filepath, 'r') as f:\n",
    "    customization_text = f.read()\n",
    "\n",
    "\n",
    "template = f\"\"\"\n",
    "AI is interacting with the Customer to collect ring customization preferences.\n",
    "AI is listing all the possible customizations for the ring in the first message to the Customer, which are:\n",
    "{customization_text}\n",
    "And asks the Customer to specify selected customizations. If the Customer missed something the AI\n",
    "asks about the missing customization. The Customer should provide all the necessary information without leaving any details out. \n",
    "The AI, on the other hand, will not make assumptions or provide answers on behalf of the Customer.\n",
    "\"\"\"\n",
    "template += \"\"\"\n",
    "Then the AI collects the Customer's answers and fill up the output JSON with the following fields:\n",
    "Material\n",
    "Style\n",
    "Surface\n",
    "Size\n",
    "Ring width\n",
    "Engraving\n",
    "\n",
    "In the Customer does not want engraving set the field Engraving to null.\n",
    "After all customizations are collected AI asks the Customer if everything is correct. In case of \n",
    "confirmation from the Customer is received the AI should output JSON (and only JSON) above with field Verified: true \n",
    "added to. In case of verified false ask the Customer about correctness again.\n",
    "\n",
    "Current conversation:\n",
    "{history}\n",
    "Customer: {input}\n",
    "AI:\n",
    "\"\"\"\n",
    "\n",
    "prompt_template = PromptTemplate(\n",
    "    input_variables=['history', 'input'], \n",
    "    template=template\n",
    ")\n",
    "\n",
    "conversation = ConversationChain(\n",
    "    prompt=prompt_template,\n",
    "    llm=llm,\n",
    "    memory=memory,\n",
    "    verbose=False\n",
    ")"
   ]
  },
  {
   "cell_type": "code",
   "execution_count": 9,
   "metadata": {},
   "outputs": [],
   "source": [
    "from typing import Optional\n",
    "\n",
    "\n",
    "def attemp_ring_parsing(response) -> Optional[Ring]:\n",
    "    try:\n",
    "        ring_dict = json.loads(response)\n",
    "        try:\n",
    "            if not ring_dict.get('Verified', None):\n",
    "                not_verified_input = \"\"\"\n",
    "Field Verified is missing or set to false. \n",
    "The AI should ask the Customer about the correctness of the ring customizations, \n",
    "showing the current customizations.\n",
    "                \"\"\"\n",
    "                print('\\nAdmin:', not_verified_input)\n",
    "                response = conversation.predict(\n",
    "                    input=not_verified_input\n",
    "                )\n",
    "                print('\\nAI:', response)\n",
    "            else:\n",
    "                ring = Ring(**{k.lower().replace(' ', '_'): v for k, v in ring_dict.items()})\n",
    "                return ring\n",
    "        except ValidationError as e:\n",
    "            fix_input = f\"\"\"\n",
    "When parsing the output the following error happened: {e}.\n",
    "Continue the conversation, explain and ask the Customer about the issue and clarify\n",
    "the order, to fix the issue. AI does not attempt to change the customizations instead of the Customer,\n",
    "but is being helpful in suggesting what can be changed for the order to be accepted.\n",
    "After the issues above are solved AI asks the user about correctness of the selected customizations \n",
    "one more time.\n",
    "\"\"\"\n",
    "            print('\\nAdmin:', fix_input)\n",
    "            response = conversation.predict(\n",
    "                input=fix_input\n",
    "            )\n",
    "            print('\\nAI:', response)\n",
    "\n",
    "    except json.decoder.JSONDecodeError:\n",
    "        return None\n",
    "\n",
    "def handle_conversation(conversation):\n",
    "    manual_input = input()\n",
    "    print('\\nCustomer:', manual_input)\n",
    "    response = conversation.predict(\n",
    "        input=manual_input\n",
    "    )\n",
    "    print('\\nAI:', response)\n",
    "    "
   ]
  },
  {
   "cell_type": "code",
   "execution_count": 10,
   "metadata": {},
   "outputs": [
    {
     "name": "stdout",
     "output_type": "stream",
     "text": [
      "Customer: hello\n",
      "AI: Hello! I'm here to help you customize your ring. Here are the possible customizations you can choose from:\n",
      "Material:\n",
      "- Yellow Gold\n",
      "- White Gold\n",
      "- Platinum\n",
      "- Sterling Silver\n",
      "- Titanium\n",
      "\n",
      "Style:\n",
      "- Classic\n",
      "- Modern\n",
      "- Vintage\n",
      "- Bohemian\n",
      "\n",
      "Surface:\n",
      "- Polished\n",
      "- Matte\n",
      "- Hammered\n",
      "- Brushed\n",
      "\n",
      "Size: From 4 to 13\n",
      "\n",
      "Ring Width: From 1mm to 8mm\n",
      "\n",
      "Engraving: Up to 20 characters or empty\n",
      "\n",
      "Please specify your selected customizations. If you missed anything, feel free to let me know.\n",
      "Customer: gold\n",
      "AI: I see you've selected Gold as the material. Could you please specify the style, surface, size, ring width, and engraving preferences as well?\n",
      "Customer: polished\n",
      "AI: Great choice! So far we have:\n",
      "Material: Gold\n",
      "Surface: Polished\n",
      "\n",
      "Could you please specify the style, size, ring width, and engraving preferences as well?\n",
      "Customer: what are possible styles again?\n",
      "AI: Here are the possible styles:\n",
      "- Classic\n",
      "- Modern\n",
      "- Vintage\n",
      "- Bohemian\n",
      "\n",
      "Please let me know your preferred style, size, ring width, and engraving preferences.\n",
      "Customer: bohemian, size 5\n",
      "AI: Great choices! So far we have:\n",
      "Material: Gold\n",
      "Style: Bohemian\n",
      "Surface: Polished\n",
      "Size: 5\n",
      "\n",
      "Could you please specify the ring width and engraving preferences as well?\n",
      "Customer: 3mm, no engraving\n",
      "AI: Perfect! Here is the summary of your customizations:\n",
      "Material: Gold\n",
      "Style: Bohemian\n",
      "Surface: Polished\n",
      "Size: 5\n",
      "Ring Width: 3mm\n",
      "Engraving: null\n",
      "\n",
      "Is everything correct? If so, please confirm. If not, please let me know what needs to be adjusted.\n",
      "Customer: ring width 2\n",
      "AI: I see you'd like to adjust the ring width to 2mm. Here is the updated summary of your customizations:\n",
      "Material: Gold\n",
      "Style: Bohemian\n",
      "Surface: Polished\n",
      "Size: 5\n",
      "Ring Width: 2mm\n",
      "Engraving: null\n",
      "\n",
      "Is everything correct now? If so, please confirm. If not, please let me know what needs to be adjusted.\n",
      "Customer: correct\n",
      "AI: {\n",
      "  \"Material\": \"Gold\",\n",
      "  \"Style\": \"Bohemian\",\n",
      "  \"Surface\": \"Polished\",\n",
      "  \"Size\": 5,\n",
      "  \"Ring Width\": 2,\n",
      "  \"Engraving\": null,\n",
      "  \"Verified\": true\n",
      "}\n",
      "Admin: \n",
      "When parsing the output the following error happened: 1 validation error for Ring\n",
      "material\n",
      "  Input should be 'Yellow Gold', 'White Gold', 'Platinum', 'Sterling Silver' or 'Titanium' [type=literal_error, input_value='Gold', input_type=str]\n",
      "    For further information visit https://errors.pydantic.dev/2.7/v/literal_error.\n",
      "Continue the conversation, explain and ask the Customer about the issue and clarify\n",
      "the order, to fix the issue. AI does not attempt to change the customizations instead of the Customer,\n",
      "but is being helpful in suggesting what can be changed for the order to be accepted.\n",
      "After the issues above are solved AI asks the user about correctness of the selected customizations \n",
      "one more time.\n",
      "\n",
      "AI: I noticed that there was an error in the material selection. The options for material are 'Yellow Gold', 'White Gold', 'Platinum', 'Sterling Silver', or 'Titanium'. Since you selected 'Gold', would you like to change it to 'Yellow Gold' instead? Please let me know if you'd like to make any adjustments to the customizations.\n",
      "Customer: hm, let it be white gold\n",
      "AI: Great choice! Here is the updated summary of your customizations:\n",
      "Material: White Gold\n",
      "Style: Bohemian\n",
      "Surface: Polished\n",
      "Size: 5\n",
      "Ring Width: 2mm\n",
      "Engraving: null\n",
      "\n",
      "Is everything correct now? If so, please confirm. If not, please let me know what needs to be adjusted.\n",
      "Customer: yes\n",
      "AI: {\n",
      "  \"Material\": \"White Gold\",\n",
      "  \"Style\": \"Bohemian\",\n",
      "  \"Surface\": \"Polished\",\n",
      "  \"Size\": 5,\n",
      "  \"Ring Width\": 2,\n",
      "  \"Engraving\": null,\n",
      "  \"Verified\": true\n",
      "}\n"
     ]
    }
   ],
   "source": [
    "while True:\n",
    "    manual_input = ''\n",
    "    while manual_input == '':\n",
    "        manual_input = input()\n",
    "\n",
    "    print('\\nCustomer:', manual_input)\n",
    "    response = conversation.predict(\n",
    "        input=manual_input\n",
    "    )\n",
    "    print('\\nAI:', response)\n",
    "    if ring := attemp_ring_parsing(response):\n",
    "        break\n"
   ]
  },
  {
   "cell_type": "code",
   "execution_count": 11,
   "metadata": {},
   "outputs": [
    {
     "data": {
      "text/plain": [
       "Ring(material='White Gold', style='Bohemian', surface='Polished', size=5.0, ring_width=2.0, engraving=None)"
      ]
     },
     "execution_count": 11,
     "metadata": {},
     "output_type": "execute_result"
    }
   ],
   "source": [
    "ring"
   ]
  },
  {
   "cell_type": "code",
   "execution_count": null,
   "metadata": {},
   "outputs": [],
   "source": []
  }
 ],
 "metadata": {
  "kernelspec": {
   "display_name": "ring-customizer",
   "language": "python",
   "name": "python3"
  },
  "language_info": {
   "codemirror_mode": {
    "name": "ipython",
    "version": 3
   },
   "file_extension": ".py",
   "mimetype": "text/x-python",
   "name": "python",
   "nbconvert_exporter": "python",
   "pygments_lexer": "ipython3",
   "version": "3.11.9"
  }
 },
 "nbformat": 4,
 "nbformat_minor": 2
}
